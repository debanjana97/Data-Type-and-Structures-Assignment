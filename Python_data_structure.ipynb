{
  "nbformat": 4,
  "nbformat_minor": 0,
  "metadata": {
    "colab": {
      "provenance": []
    },
    "kernelspec": {
      "name": "python3",
      "display_name": "Python 3"
    },
    "language_info": {
      "name": "python"
    }
  },
  "cells": [
    {
      "cell_type": "code",
      "execution_count": null,
      "metadata": {
        "id": "V6Qo_6z4mR-V"
      },
      "outputs": [],
      "source": []
    },
    {
      "cell_type": "markdown",
      "source": [
        "# **Data Types and Structures**"
      ],
      "metadata": {
        "id": "X1Q4CajLjcow"
      }
    },
    {
      "cell_type": "markdown",
      "source": [
        "## **Theory question**\n",
        "\n",
        "  **1. What are data structures, and why are they important?**\n",
        "\n",
        "   -Data structures are specialized formats for organizing, storing, and managing data in a computer so that it can be used efficiently. They provide a way to handle large amounts of data effectively, enabling faster access, modification, and processing. Common examples of data structures include arrays, linked lists, stacks, queues, trees, graphs, and hash tables.\n",
        "\n",
        "### Why Data Structures Are Important:\n",
        "1. **Efficiency**: Properly chosen data structures optimize the performance of operations like searching, sorting, and inserting data. For example, a hash table allows for fast data retrieval, while a binary search tree enables efficient searching and sorting.\n",
        "\n",
        "2. **Memory Management**: Data structures help in allocating and deallocating memory efficiently, reducing wastage and improving resource utilization.\n",
        "\n",
        "3. **Abstraction**: They provide a clear and logical way to represent complex data, making it easier to design and implement algorithms.\n",
        "\n",
        "4. **Problem-Solving**: Many real-world problems can be modeled and solved effectively using appropriate data structures. For instance, graphs are used to represent networks, and trees are used for hierarchical data like file systems.\n",
        "\n",
        "5. **Scalability**: Efficient data structures are crucial for handling large datasets and ensuring that applications perform well as data grows.\n",
        "\n",
        "6. **Reusability**: Well-designed data structures can be reused across multiple applications, saving time and effort in development.\n",
        "\n",
        "7. **Foundation for Algorithms**: Data structures are the building blocks of algorithms. Understanding them is essential for designing efficient algorithms, which are the core of computer science and software development.\n",
        "\n",
        "In summary, data structures are fundamental to computer science and software engineering because they enable efficient data management, improve performance, and provide a structured approach to solving complex problems."
      ],
      "metadata": {
        "id": "8uaP3sTWqSe4"
      }
    },
    {
      "cell_type": "markdown",
      "source": [
        "**2. Explain the difference between mutable and immutable data types with examples?**\n",
        "  \n",
        "  \n",
        "   -In programming, data types can be classified as either **mutable** or **immutable** based on whether their state (or value) can be changed after they are created.\n",
        "\n",
        "### **Mutable Data Types**:\n",
        "Mutable data types are those whose state or content can be modified after they are created. This means you can change, add, or remove elements without creating a new object.\n",
        "\n",
        "#### Examples of Mutable Data Types:\n",
        "1. **Lists** (in Python):\n",
        "   ```python\n",
        "   my_list = [1, 2, 3]\n",
        "   my_list[0] = 10  # Modify the first element\n",
        "   print(my_list)   # Output: [10, 2, 3]\n",
        "   ```\n",
        "\n",
        "2. **Dictionaries** (in Python):\n",
        "   ```python\n",
        "   my_dict = {'a': 1, 'b': 2}\n",
        "   my_dict['c'] = 3  # Add a new key-value pair\n",
        "   print(my_dict)    # Output: {'a': 1, 'b': 2, 'c': 3}\n",
        "   ```\n",
        "\n",
        "3. **Sets** (in Python):\n",
        "   ```python\n",
        "   my_set = {1, 2, 3}\n",
        "   my_set.add(4)  # Add a new element\n",
        "   print(my_set)  # Output: {1, 2, 3, 4}\n",
        "   ```\n",
        "\n",
        "4. **Arrays** (in many languages like Java or C++):\n",
        "   ```java\n",
        "   int[] arr = {1, 2, 3};\n",
        "   arr[0] = 10;  // Modify the first element\n",
        "   ```\n",
        "\n",
        "### **Immutable Data Types**:\n",
        "Immutable data types are those whose state or content cannot be changed after they are created. If you want to modify an immutable object, you must create a new object with the desired changes.\n",
        "\n",
        "#### Examples of Immutable Data Types:\n",
        "1. **Strings** (in Python):\n",
        "   ```python\n",
        "   my_string = \"hello\"\n",
        "   # Attempting to modify a string creates a new object\n",
        "   new_string = my_string.replace(\"h\", \"H\")\n",
        "   print(my_string)  # Output: \"hello\" (unchanged)\n",
        "   print(new_string) # Output: \"Hello\" (new object)\n",
        "   ```\n",
        "\n",
        "2. **Tuples** (in Python):\n",
        "   ```python\n",
        "   my_tuple = (1, 2, 3)\n",
        "   # Tuples cannot be modified directly\n",
        "   # my_tuple[0] = 10  # This would raise an error\n",
        "   new_tuple = my_tuple + (4,)  # Create a new tuple\n",
        "   print(new_tuple)  # Output: (1, 2, 3, 4)\n",
        "   ```\n",
        "\n",
        "3. **Integers, Floats, and Booleans** (in most languages):\n",
        "   ```python\n",
        "   x = 5\n",
        "   x = x + 1  # Creates a new integer object\n",
        "   print(x)   # Output: 6\n",
        "   ```\n",
        "\n",
        "4. **Frozen Sets** (in Python):\n",
        "   ```python\n",
        "   my_frozen_set = frozenset([1, 2, 3])\n",
        "   # my_frozen_set.add(4)  # This would raise an error\n",
        "   ``\n",
        "\n",
        "### Key Differences:\n",
        "| Feature               | Mutable Data Types               | Immutable Data Types               |\n",
        "|-----------------------|----------------------------------|------------------------------------|\n",
        "| **Modifiability**     | Can be changed after creation    | Cannot be changed after creation   |\n",
        "| **Memory Efficiency** | May use less memory for changes  | Requires new memory for changes    |\n",
        "| **Performance**       | Faster for modifications         | Slower for modifications           |\n",
        "| **Thread Safety**     | Not thread-safe by default       | Thread-safe                        |\n",
        "| **Examples**          | Lists, dictionaries, sets        | Strings, tuples, integers, floats  |\n",
        "\n",
        "---\n",
        "\n"
      ],
      "metadata": {
        "id": "wK96v00GrIHV"
      }
    },
    {
      "cell_type": "markdown",
      "source": [
        "**3. What are the main differences between lists and tuples in Python?**\n",
        "\n",
        "   -In Python, **lists** and **tuples** are both used to store collections of items, but they have several key differences in terms of mutability, performance, and use cases. Here's a detailed comparison:\n",
        "    \n",
        "\n",
        "| Feature            | Lists                          | Tuples                         |\n",
        "|--------------------|--------------------------------|--------------------------------|\n",
        "| **Mutability**     | Mutable                        | Immutable                      |\n",
        "| **Syntax**         | Square brackets `[]`           | Parentheses `()`               |\n",
        "| **Performance**    | Slower for modifications       | Faster and memory-efficient    |\n",
        "| **Use Cases**      | Dynamic data                   | Fixed data                     |\n",
        "| **Methods**        | Many (e.g., `append`, `remove`)| Few (e.g., `count`, `index`)   |\n",
        "| **Memory Usage**   | Higher                         | Lower                          |\n",
        "| **Hashability**    | Not hashable                   | Hashable (if elements are)     |\n",
        "\n",
        "- Use **lists** when you need a collection that can change (e.g., managing a to-do list).\n",
        "- Use **tuples** when you need a collection that should remain constant (e.g., storing configuration settings or returning multiple values from a function)."
      ],
      "metadata": {
        "id": "hFG8pG83s2ya"
      }
    },
    {
      "cell_type": "markdown",
      "source": [
        "\n",
        "**4. Describe how dictionaries store data?**\n",
        "\n",
        "\n",
        "  -Dictionaries in Python are a built-in data structure used to store data in **key-value pairs**. They are highly efficient for lookups, insertions, and deletions because they are implemented using a **hash table**. Here's a detailed explanation of how dictionaries store and manage data:\n",
        "\n",
        "### 1. **Key-Value Pairs**:\n",
        "- A dictionary stores data as a collection of **key-value pairs**.\n",
        "- Each **key** is unique and acts as an identifier for its corresponding **value**.\n",
        "- Example:\n",
        "  ```python\n",
        "  my_dict = {\"name\": \"Alice\", \"age\": 25, \"city\": \"New York\"}\n",
        "  ```\n",
        "  Here, `\"name\"`, `\"age\"`, and `\"city\"` are keys, and `\"Alice\"`, `25`, and `\"New York\"` are their respective values.\n",
        "\n",
        "### 2. **Hash Table Implementation**:\n",
        "- Dictionaries are implemented using a **hash table**, which is a data structure that maps keys to values using a **hash function**.\n",
        "- The hash function takes a key and computes a **hash code** (an integer), which determines the index where the key-value pair will be stored in memory.\n",
        "\n",
        "#### How It Works:\n",
        "1. **Hashing the Key**:\n",
        "   - When you insert a key-value pair, the dictionary applies a hash function to the key to compute its hash code.\n",
        "   - Example: For the key `\"name\"`, the hash function might compute a hash code like `12345`.\n",
        "\n",
        "2. **Storing the Pair**:\n",
        "   - The hash code is used to determine the index in the underlying array (hash table) where the key-value pair will be stored.\n",
        "   - Example: The pair `(\"name\", \"Alice\")` might be stored at index `12345 % array_size`.\n",
        "\n",
        "3. **Handling Collisions**:\n",
        "   - If two keys produce the same hash code (a **collision**), the dictionary uses techniques like **chaining** (storing multiple key-value pairs in the same index using a linked list) or **open addressing** (finding another available index).\n",
        "\n",
        "4. **Retrieving Values**:\n",
        "   - When you look up a value using a key, the dictionary applies the same hash function to the key to find its index in the hash table and retrieves the corresponding value.\n",
        "   - Example: Looking up `my_dict[\"name\"]` computes the hash code for `\"name\"` and retrieves `\"Alice\"`.\n",
        "\n",
        "Dictionaries store data as key-value pairs using a hash table, which allows for fast and efficient lookups, insertions, and deletions. Keys must be unique and immutable, while values can be of any type. This makes dictionaries a powerful and versatile tool for managing associative data in Python."
      ],
      "metadata": {
        "id": "dGw_GG86ue21"
      }
    },
    {
      "cell_type": "markdown",
      "source": [],
      "metadata": {
        "id": "FdUdeC3oCi5B"
      }
    },
    {
      "cell_type": "markdown",
      "source": [
        "**5.Why might you use a set instead of a list in Python?**\n",
        "\n",
        "   -In Python, you might choose to use a **set** instead of a **list** in certain scenarios due to the unique properties and advantages of sets:\n",
        "\n",
        "### 1. **Uniqueness of Elements**\n",
        "   - Sets automatically enforce that all elements are unique. If you need to store a collection of items without duplicates, a set is ideal.\n",
        "   - Example:\n",
        "     ```python\n",
        "     my_list = [1, 2, 2, 3, 4, 4]\n",
        "     my_set = set(my_list)  # {1, 2, 3, 4}\n",
        "    \n",
        "### 2. **Fast Membership Testing**\n",
        "   - Sets are implemented using hash tables, which makes checking whether an element exists in a set very fast (average time complexity of O(1)).\n",
        "   - Lists, on the other hand, require O(n) time for membership testing.\n",
        "   - Example:\n",
        "     ```python\n",
        "     my_set = {1, 2, 3, 4}\n",
        "     if 3 in my_set:  # Fast\n",
        "         print(\"Found\")\n",
        "     ```\n",
        "### 3. **Mathematical Set Operations**\n",
        "   - Sets support operations like union (`|`), intersection (`&`), difference (`-`), and symmetric difference (`^`), which are useful for comparing or combining collections.\n",
        "   - Example:\n",
        "     ```python\n",
        "     set1 = {1, 2, 3}\n",
        "     set2 = {3, 4, 5}\n",
        "     union = set1 | set2  # {1, 2, 3, 4, 5}\n",
        "     \n",
        "### 4. **No Order Guarantee**\n",
        "   - Sets are unordered collections, meaning they do not maintain the insertion order of elements. If you don’t care about the order of elements, a set can be more efficient.\n",
        "   - Lists maintain the order of elements, which is useful when sequence matters.\n",
        "\n",
        "### 5. **Efficient for Large Data**\n",
        "   - Sets are more memory-efficient than lists when dealing with large datasets where uniqueness is required, as they avoid storing duplicate elements.\n",
        "\n",
        "### When to Use a List Instead:\n",
        "   - If need to preserve the order of elements.\n",
        "   - If need to allow duplicate elements.\n",
        "   - If need to access elements by index (sets do not support indexing).\n",
        "\n",
        "Use a **set** when need to ensure uniqueness, perform fast membership tests, or use mathematical set operations. Use a **list** when order matters, duplicates are allowed, or need indexed access."
      ],
      "metadata": {
        "id": "bmNohgNVDROo"
      }
    },
    {
      "cell_type": "markdown",
      "source": [
        "**6. What is a string in Python, and how is it different from a list?**\n",
        "\n",
        "   -In Python, a **string** and a **list** are both sequence types, but they serve different purposes and have distinct characteristics. Here's a breakdown of what a string is and how it differs from a list:\n",
        "\n",
        "### **What is a String?**\n",
        "A string is a sequence of characters enclosed in single quotes (`' '`), double quotes (`\" \"`), or triple quotes (`''' '''` or `\"\"\" \"\"\"`). Strings are immutable, meaning their contents cannot be changed after creation.\n",
        "\n",
        "Example:\n",
        "```python\n",
        "my_string = \"Hello, Python\"\n",
        "\n",
        "### **Key Differences Between Strings and Lists**\n",
        "\n",
        "| Feature                  | String                                      | List                                      |\n",
        "|--------------------------|---------------------------------------------|-------------------------------------------|\n",
        "| **Purpose**              | Represents text (a sequence of characters). | Represents a collection of items (any type). |\n",
        "| **Mutability**           | Immutable (cannot be modified after creation). | Mutable (can be modified after creation). |\n",
        "| **Elements**             | Contains only characters.                   | Can contain elements of any data type (e.g., integers, strings, other lists). |\n",
        "| **Syntax**               | Enclosed in quotes (`' '`, `\" \"`, `''' '''`, `\"\"\" \"\"\"`). | Enclosed in square brackets (`[ ]`). |\n",
        "| **Common Operations**    | Concatenation, slicing, formatting, etc.    | Appending, removing, slicing, sorting, etc. |\n",
        "| **Indexing**             | Supports indexing to access individual characters. | Supports indexing to access individual elements. |\n",
        "| **Memory Efficiency**    | More memory-efficient for text.             | Less memory-efficient for large collections. |\n",
        "\n",
        "\n",
        "### **When to Use a String vs. a List**\n",
        "- Use a **string** when working with text or characters.\n",
        "- Use a **list** when working with a collection of items that may need to be modified.\n",
        "\n",
        "- **Strings** are immutable sequences of characters, ideal for text manipulation.\n",
        "- **Lists** are mutable sequences of any data type, ideal for storing and manipulating collections of items."
      ],
      "metadata": {
        "id": "zHXQUT8-GAqO"
      }
    },
    {
      "cell_type": "markdown",
      "source": [
        "**7.  How do tuples ensure data integrity in Python?**\n",
        "\n",
        "   -Tuples in Python ensure data integrity primarily through their **immutability**. Once a tuple is created, its contents cannot be changed, added to, or removed. This immutability provides several advantages that contribute to data integrity:\n",
        "\n",
        "### **1. Immutability Prevents Unintended Modifications**\n",
        "- Since tuples cannot be modified after creation, they protect the data from accidental changes. This is particularly useful when you want to ensure that the data remains constant throughout the program.\n",
        "\n",
        "### **2. Use as Dictionary Keys**\n",
        "- Tuples can be used as keys in dictionaries because they are immutable and hashable (if all their elements are hashable). Lists, on the other hand, cannot be used as dictionary keys because they are mutable.\n",
        "\n",
        "### **3. Safe Data Sharing**\n",
        "- When passing data between functions or modules, using a tuple ensures that the data cannot be altered inadvertently. This is especially important in multi-threaded or distributed applications where data consistency is critical.\n",
        "\n",
        "### **4. Guaranteed Consistency**\n",
        "- Tuples are often used to represent fixed collections of related data, such as coordinates (`(x, y, z)`) or database records. Their immutability ensures that the structure and content of the data remain consistent.\n",
        "\n",
        "### **5. Performance Benefits**\n",
        "- Because tuples are immutable, Python can optimize their storage and access, making them faster and more memory-efficient than lists for fixed data. This also reduces the risk of unintended side effects in performance-critical applications.\n",
        "\n",
        "### **6. Use in Function Return Values**\n",
        "- Tuples are commonly used to return multiple values from a function. Since they are immutable, the caller can be confident that the returned values will not change unexpectedly.\n",
        "\n",
        "### **7. Data Integrity in APIs and Libraries**\n",
        "- Many Python libraries and APIs use tuples to ensure that the data they return or accept cannot be modified, preserving the integrity of the data structure.\n",
        "\n",
        "\n",
        "Tuples ensure data integrity in Python by being immutable, which prevents unintended modifications, guarantees consistency, and makes them suitable for use as dictionary keys, function return values, and safe data sharing. Their immutability makes them a reliable choice for storing fixed or constant data."
      ],
      "metadata": {
        "id": "ecpQRDJUHZ85"
      }
    },
    {
      "cell_type": "markdown",
      "source": [
        "**8. What is a hash table, and how does it relate to dictionaries in Python?**\n",
        "\n",
        "   -A **hash table** is a data structure that stores key-value pairs and provides efficient insertion, deletion, and lookup operations. It works by using a **hash function** to compute an index (or \"hash code\") for each key, which determines where the corresponding value is stored in memory. Hash tables are foundational to many programming languages and are the underlying implementation of **dictionaries** in Python.\n",
        "\n",
        "### **How Hash Tables Work**\n",
        "1. **Hash Function**:\n",
        "   - A hash function takes a key as input and computes a fixed-size integer (the hash code).\n",
        "   - The hash code is used to determine the index in an array (called a \"bucket array\") where the value will be stored.\n",
        "\n",
        "2. **Buckets and Collisions**:\n",
        "   - The bucket array holds the key-value pairs.\n",
        "   - If two keys produce the same hash code (a \"collision\"), the hash table uses a collision resolution strategy (e.g., chaining or open addressing) to handle it.\n",
        "\n",
        "3. **Lookup, Insertion, and Deletion**:\n",
        "   - To look up a value, the hash function computes the index for the key and retrieves the value from the corresponding bucket.\n",
        "   - Insertion and deletion work similarly by computing the index and updating the bucket.\n",
        "\n",
        "### **Hash Tables in Python: Dictionaries**\n",
        "In Python, the **dictionary** (`dict`) is the built-in implementation of a hash table. Dictionaries allow you to store and retrieve key-value pairs efficiently.\n",
        "\n",
        "#### **Key Features of Python Dictionaries**\n",
        "1. **Key-Value Pairs**:\n",
        "   - Dictionaries store data as key-value pairs, where keys must be hashable (immutable and implement the `__hash__` method).\n",
        "   - Example:\n",
        "     ```python\n",
        "     my_dict = {\"name\": \"Alice\", \"age\": 25}\n",
        "     ```\n",
        "\n",
        "2. **Efficient Operations**:\n",
        "   - Dictionaries provide average time complexity of **O(1)** for insertion, deletion, and lookup operations due to the hash table implementation.\n",
        "\n",
        "3. **Mutable**:\n",
        "   - Dictionaries are mutable, meaning you can add, remove, or modify key-value pairs after creation.\n",
        "\n",
        "4. **Unordered (Before Python 3.7)**:\n",
        "   - Before Python 3.7, dictionaries did not guarantee order preservation. Starting from Python 3.7, dictionaries maintain insertion order as an implementation detail, and this behavior became part of the language specification in Python 3.8+.\n",
        "\n",
        "### **How Dictionaries Use Hash Tables**\n",
        "1. **Hashing Keys**:\n",
        "   - When you add a key-value pair to a dictionary, Python uses the key's hash value (computed via the `__hash__` method) to determine the bucket where the value will be stored.\n",
        "   - Example:\n",
        "     ```python\n",
        "     hash(\"name\")  # Computes the hash code for the key \"name\"\n",
        "     ```\n",
        "\n",
        "2. **Collision Handling**:\n",
        "   - Python handles collisions using **open addressing** with a probing mechanism (e.g., linear probing) to find the next available bucket.\n",
        "\n",
        "3. **Dynamic Resizing**:\n",
        "   - Dictionaries dynamically resize their underlying bucket array to maintain efficiency as the number of key-value pairs.\n",
        "\n",
        "### **Limitations of Hash Tables (Dictionaries)**\n",
        "1. **Memory Overhead**:\n",
        "   - Hash tables use more memory than some other data structures (e.g., lists) due to the need for buckets and collision handling.\n",
        "2. **Unhashable Keys**:\n",
        "   - Keys must be immutable and hashable. Mutable types like lists or dictionaries cannot be used as keys.\n",
        "3. **Order (Pre-Python 3.7)**:\n",
        "   - Before Python 3.7, dictionaries did not preserve insertion order.\n",
        "\n",
        "- A **hash table** is a data structure that maps keys to values using a hash function.\n",
        "- In Python, **dictionaries** are implemented using hash tables, providing fast and efficient key-value storage and retrieval.\n",
        "- Dictionaries are mutable, support flexible keys, and have average O(1) time complexity for common operations.\n",
        "- Understanding hash tables helps you appreciate the efficiency and design of Python dictionaries."
      ],
      "metadata": {
        "id": "EtEadNUFJWtC"
      }
    },
    {
      "cell_type": "markdown",
      "source": [
        "**9.  Can lists contain different data types in Python?**\n",
        "\n",
        "   -Yes, in Python, lists can contain elements of different data types. This is one of the features that makes Python lists very flexible. For example, a single list can contain integers, strings, floats, and even other lists or complex objects.\n",
        "\n",
        "Here’s an example of a list with different data types:\n",
        "\n",
        "```python\n",
        "mixed_list = [42, \"Hello\", 3.14, True, [1, 2, 3], {\"key\": \"value\"}]\n",
        "```\n",
        "\n",
        "In this list:\n",
        "- `42` is an integer.\n",
        "- `\"Hello\"` is a string.\n",
        "- `3.14` is a float.\n",
        "- `True` is a boolean.\n",
        "- `[1, 2, 3]` is another list.\n",
        "- `{\"key\": \"value\"}` is a dictionary.\n",
        "\n",
        "This flexibility allows you to store and manipulate heterogeneous data structures in a single list."
      ],
      "metadata": {
        "id": "AST_cUyuSc9o"
      }
    },
    {
      "cell_type": "markdown",
      "source": [],
      "metadata": {
        "id": "ktiTV7XdRFXt"
      }
    },
    {
      "cell_type": "markdown",
      "source": [],
      "metadata": {
        "id": "iD06V146e0ho"
      }
    },
    {
      "cell_type": "markdown",
      "source": [
        "**10. Explain why strings are immutable in Python?**\n",
        "\n",
        "   -In Python, strings are immutable, meaning that once a string is created, it cannot be changed. This immutability is a fundamental design choice in Python, and it has several important implications and benefits:\n",
        "\n",
        "### 1. **Memory Efficiency and Performance**\n",
        "   - **String Interning**: Python optimizes memory usage by reusing immutable objects. For example, if two strings have the same value, Python may point both variables to the same memory location (a process called **interning**). This reduces memory overhead and improves performance.\n",
        "   - **Hashability**: Since strings are immutable, they can be used as keys in dictionaries or elements in sets. Immutable objects are hashable because their hash value remains constant over their lifetime.\n",
        "\n",
        "### 2. **Safety and Predictability**\n",
        "   - **Thread Safety**: Immutable objects are inherently thread-safe because they cannot be modified after creation. This eliminates the risk of one thread modifying a string while another is using it.\n",
        "   - **Consistency**: Immutability ensures that once a string is created, its value cannot be accidentally changed elsewhere in the program. This makes code more predictable and easier to debug.\n",
        "\n",
        "### 3. **Ease of Implementation**\n",
        "   - **Simpler Design**: Immutability simplifies the implementation of strings in Python. The interpreter doesn’t need to handle cases where a string might change, which reduces complexity.\n",
        "   - **Caching and Optimization**: Python can cache and reuse strings, especially small ones, because they are immutable. This improves performance in scenarios where the same string is used repeatedly.\n",
        "\n",
        "### 4. **String Operations Create New Objects**\n",
        "   - When you perform operations on strings (e.g., concatenation, slicing, or formatting), Python creates a new string object rather than modifying the existing one. For example:\n",
        "     ```python\n",
        "     s = \"hello\"\n",
        "     s += \" world\"  # Creates a new string object, rather than modifying the original\n",
        "     ```\n",
        "   - This behavior ensures that the original string remains unchanged, which aligns with the principle of immutability.\n",
        "\n",
        "### 5. **Alignment with Python's Philosophy**\n",
        "   - Python emphasizes readability, simplicity, and explicitness. Immutable strings align with these principles by making it clear that strings cannot be modified in place, reducing the potential for bugs and unexpected behavior.\n",
        "\n",
        "String immutability in Python is a deliberate design choice that provides benefits in terms of memory efficiency, safety, and simplicity. While it might seem restrictive at first, it leads to more robust and predictable code. If you need mutable sequences of characters, Python provides alternatives like `bytearray` or `list`."
      ],
      "metadata": {
        "id": "sg7FZia6e2Jm"
      }
    },
    {
      "cell_type": "markdown",
      "source": [
        "**11.  What advantages do dictionaries offer over lists for certain tasks?**\n",
        "\n",
        "  -Dictionaries in Python offer several advantages over lists for certain tasks, primarily due to their underlying implementation as **hash tables**. Here are the key advantages:\n",
        "\n",
        "### 1. **Fast Lookup by Key**\n",
        "   - Dictionaries allow for **O(1) average time complexity** for lookups, insertions, and deletions based on keys. This is because dictionaries use a hash table to map keys to values.\n",
        "   - In contrast, lists require **O(n) time complexity** for searching (e.g., checking if an item exists), as they rely on linear search unless the list is sorted (in which case binary search can achieve O(log n)).\n",
        "\n",
        "   **Example:**\n",
        "   ```python\n",
        "   # Dictionary lookup\n",
        "   my_dict = {\"name\": \"Alice\", \"age\": 30}\n",
        "   print(my_dict[\"name\"])  # O(1) time complexity\n",
        "\n",
        "   # List lookup (requires iteration)\n",
        "   my_list = [(\"name\", \"Alice\"), (\"age\", 30)]\n",
        "   for key, value in my_list:\n",
        "       if key == \"name\":\n",
        "           print(value)  # O(n) time complexity\n",
        "\n",
        "\n",
        "### 2. **Flexible Key-Value Pairing**\n",
        "   - Dictionaries store data as **key-value pairs**, which makes them ideal for representing structured data (e.g., JSON-like objects).\n",
        "   - Lists, on the other hand, store data as ordered sequences and require additional logic to associate values with keys.\n",
        "\n",
        "   **Example:**\n",
        "   ```python\n",
        "   # Dictionary for structured data\n",
        "   person = {\"name\": \"Alice\", \"age\": 30, \"city\": \"New York\"}\n",
        "\n",
        "   # List for structured data (less intuitive)\n",
        "   person_list = [\"Alice\", 30, \"New York\"]\n",
        "   ```\n",
        "\n",
        "### 3. **No Duplicate Keys**\n",
        "   - Dictionaries enforce **unique keys**, which ensures that each key maps to a single value. This is useful for tasks like counting occurrences or maintaining a mapping without duplicates.\n",
        "   - Lists allow duplicate elements, so you would need additional logic to enforce uniqueness.\n",
        "\n",
        "   **Example:**\n",
        "   ```python\n",
        "   # Dictionary to count occurrences\n",
        "   word_count = {}\n",
        "   for word in [\"apple\", \"banana\", \"apple\", \"orange\"]:\n",
        "       word_count[word] = word_count.get(word, 0) + 1\n",
        "   print(word_count)  # Output: {'apple': 2, 'banana': 1, 'orange': 1}\n",
        "   ```\n",
        "\n",
        "### 4. **Efficient Membership Testing**\n",
        "   - Checking if a key exists in a dictionary is **O(1)** on average, while checking if an item exists in a list is **O(n)**.\n",
        "   - This makes dictionaries ideal for tasks like caching, indexing, or filtering.\n",
        "\n",
        "   **Example:**\n",
        "   ```python\n",
        "   # Dictionary membership testing\n",
        "   my_dict = {\"a\": 1, \"b\": 2, \"c\": 3}\n",
        "   if \"a\" in my_dict:  # O(1)\n",
        "       print(\"Key exists\")\n",
        "\n",
        "   # List membership testing\n",
        "   my_list = [\"a\", \"b\", \"c\"]\n",
        "   if \"a\" in my_list:  # O(n)\n",
        "       print(\"Item exists\")\n",
        "\n",
        "\n",
        "### 5. **Dynamic and Flexible Keys**\n",
        "   - Dictionary keys can be any **hashable type** (e.g., strings, numbers, tuples), making them versatile for mapping different types of data.\n",
        "   - Lists are limited to integer indices for accessing elements.\n",
        "\n",
        "   **Example:**\n",
        "   ```python\n",
        "   # Dictionary with mixed keys\n",
        "   my_dict = {1: \"one\", \"two\": 2, (3, 4): \"tuple key\"}\n",
        "   print(my_dict[(3, 4)])  # Output: \"tuple key\"\n",
        "  \n",
        "\n",
        "### 6. **Better for Sparse Data**\n",
        "   - Dictionaries are more memory-efficient for **sparse data** (where most keys are absent or default). Only the keys that are explicitly defined occupy memory.\n",
        "   - Lists require memory for all indices, even if most are unused or default.\n",
        "\n",
        "   **Example:**\n",
        "   ```python\n",
        "   # Sparse data in a dictionary\n",
        "   sparse_dict = {1000: \"value\", 2000: \"another value\"}\n",
        "\n",
        "   # Sparse data in a list (wastes memory)\n",
        "   sparse_list = [None] * 2001\n",
        "   sparse_list[1000] = \"value\"\n",
        "   sparse_list[2000] = \"another value\"\n",
        "   ```\n",
        "\n",
        "### 7. **Natural Representation of Relationships**\n",
        "   - Dictionaries are ideal for representing **relationships** between entities (e.g., mapping usernames to user data, or words to their definitions).\n",
        "   - Lists are better suited for ordered sequences of items.\n",
        "\n",
        "   **Example:**\n",
        "   ```python\n",
        "   # Dictionary for relationships\n",
        "   user_data = {\"alice\": {\"age\": 30, \"city\": \"New York\"}, \"bob\": {\"age\": 25, \"city\": \"Los Angeles\"}}\n",
        "   print(user_data[\"alice\"][\"city\"])  # Output: \"New York\""
      ],
      "metadata": {
        "id": "dt8uX2haf2aF"
      }
    },
    {
      "cell_type": "markdown",
      "source": [
        "**12.   Describe a scenario where using a tuple would be preferable over a list?**\n",
        "\n",
        " -A **tuple** is preferable over a **list** in scenarios where:\n",
        "\n",
        " **Immutability is Required**:  \n",
        "   Tuples are immutable, meaning their contents cannot be changed after creation. This makes them ideal for representing fixed data, such as:\n",
        "   - Configuration settings: `config = (\"localhost\", 8080)`\n",
        "   - Constants: `COLORS = (\"red\", \"green\", \"blue\")`\n",
        "\n",
        " **Hashability is Needed**:  \n",
        "   Tuples can be used as keys in dictionaries or elements in sets because they are hashable (due to their immutability). Lists cannot be used in these contexts.  \n",
        "   Example:  \n",
        "   ```python\n",
        "   coordinates = {(1, 2): \"point A\", (3, 4): \"point B\"}\n",
        "   \n",
        " **Performance Matters**:  \n",
        "   Tuples are more memory-efficient and faster to create than lists, making them suitable for large, unchanging datasets.\n",
        "\n",
        " **Data Integrity**:  \n",
        "   Tuples ensure that the data remains unchanged, which is useful for preventing accidental modifications in critical parts of the programe.\n",
        "\n",
        "Here, a tuple is preferred because the date should not be modified after creation."
      ],
      "metadata": {
        "id": "o7vl31ADhyj7"
      }
    },
    {
      "cell_type": "markdown",
      "source": [
        "**13.   How do sets handle duplicate values in Python?**\n",
        "\n",
        "  -In Python, **sets** automatically handle duplicate values by **allowing only unique elements**. When you add a value to a set that already exists, it is ignored, ensuring that no duplicates are stored. This behavior makes sets ideal for tasks like removing duplicates from a collection or checking for membership.\n",
        "\n",
        "### Example:\n",
        "```python\n",
        "my_set = {1, 2, 2, 3, 4}\n",
        "print(my_set)  # Output: {1, 2, 3, 4}\n",
        "\n",
        "Here, the duplicate value `2` is automatically removed."
      ],
      "metadata": {
        "id": "aPwtJjfaoJVe"
      }
    },
    {
      "cell_type": "markdown",
      "source": [
        "**14.  How does the “in” keyword work differently for lists and dictionaries?**\n",
        "\n",
        "  -The **`in` keyword** works differently for **lists** and **dictionaries** in Python:\n",
        "\n",
        " **Lists**:  \n",
        "   - The `in` keyword checks for the presence of a value in the list.  \n",
        "   - It performs a **linear search**, which has a time complexity of **O(n)**.  \n",
        "   Example:  \n",
        "   ```python\n",
        "   my_list = [1, 2, 3, 4]\n",
        "   print(3 in my_list)  # Output: True\n",
        "   ```\n",
        "\n",
        " **Dictionaries**:  \n",
        "   - The `in` keyword checks for the presence of a **key** in the dictionary.  \n",
        "   - It uses a **hash table lookup**, which has an average time complexity of **O(1)**.  \n",
        "   Example:  \n",
        "   ```python\n",
        "   my_dict = {\"a\": 1, \"b\": 2, \"c\": 3}\n",
        "   print(\"b\" in my_dict)  # Output: True\n",
        "   ```\n",
        "\n",
        "\n",
        "- For **lists**, `in` searches for **values** and is slower (**O(n)**).  \n",
        "- For **dictionaries**, `in` searches for **keys** and is faster (**O(1)**)."
      ],
      "metadata": {
        "id": "P8CkfNfmousI"
      }
    },
    {
      "cell_type": "markdown",
      "source": [
        "**15.  Can you modify the elements of a tuple? Explain why or why not?**\n",
        "\n",
        "   -No, you **cannot modify the elements of a tuple** after it is created. Tuples are **immutable**, meaning their contents cannot be changed, added, or removed. This immutability ensures data integrity and makes tuples suitable for storing fixed or constant data.\n",
        "\n",
        "### Example:\n",
        "```python\n",
        "my_tuple = (1, 2, 3)\n",
        "my_tuple[0] = 10  # This will raise a TypeError\n",
        "```\n",
        "\n",
        "### Why?\n",
        "- Immutability allows tuples to be **hashable**, enabling their use as keys in dictionaries or elements in sets.\n",
        "- It also provides safety by preventing accidental modifications to the data."
      ],
      "metadata": {
        "id": "BeO8Bp2jpzxw"
      }
    },
    {
      "cell_type": "markdown",
      "source": [
        "**16. What is a nested dictionary, and give an example of its use case?**\n",
        "\n",
        "   -A **nested dictionary** is a dictionary that contains other dictionaries as values. This allows you to create hierarchical or structured data, where each key in the outer dictionary maps to another dictionary, which can itself contain further dictionaries or other data types.\n",
        "\n",
        "### Use Case\n",
        "Nested dictionaries are useful when you need to represent complex, structured data. For example:\n",
        "- **Employee Management System**: Storing employee details like age, department, and skills, as shown above.\n",
        "- **Configuration Settings**: Storing configuration options for different environments (e.g., development, testing, production).\n",
        "- **Hierarchical Data**: Representing organizational structures, family trees, or file systems.\n",
        "\n",
        "Nested dictionaries are a powerful way to organize and manage structured data in Python."
      ],
      "metadata": {
        "id": "sV7XzDm-RIzt"
      }
    },
    {
      "cell_type": "markdown",
      "source": [
        "**17.   Describe the time complexity of accessing elements in a dictionary?**\n",
        "\n",
        "   -The time complexity of accessing elements in a dictionary is **O(1)** on average. This is because dictionaries in Python are implemented as hash tables, which allow for constant-time lookups, insertions, and deletions in most cases. However, in the worst case (e.g., due to hash collisions), the time complexity can degrade to **O(n)**."
      ],
      "metadata": {
        "id": "1vnvRbZ1SUP6"
      }
    },
    {
      "cell_type": "markdown",
      "source": [
        "**18.   In what situations are lists preferred over dictionaries?**\n",
        "\n",
        "   -Lists are preferred over dictionaries in the following situations:\n",
        "\n",
        " **Ordered Data**: When the order of elements matters, as lists maintain insertion order.\n",
        "\n",
        " **Sequential Access**: When you need to access elements sequentially or by index.\n",
        "\n",
        " **Simple Collections**: When storing homogeneous data (e.g., a list of numbers or strings) without the need for key-value pairs.\n",
        "\n",
        " **Frequent Iteration**: When iterating over all elements is a common operation, as lists are optimized for iteration.\n",
        "\n",
        " **Memory Efficiency**: When memory usage is a concern, as lists generally consume less memory than dictionaries."
      ],
      "metadata": {
        "id": "BNv9PgHrS174"
      }
    },
    {
      "cell_type": "markdown",
      "source": [
        "**19.  Why are dictionaries considered unordered, and how does that affect data retrieval?**\n",
        "\n",
        "   -Dictionaries are considered **unordered** (in Python versions before 3.7) because they do not guarantee any specific order of elements. This is due to their implementation as **hash tables**, where the order of keys depends on the hashing mechanism and can appear random.\n",
        "\n",
        "### Effect on Data Retrieval:\n",
        "- **No Index-Based Access**: You cannot access elements by their position (e.g., `dict[0]`).\n",
        "- **Key-Based Access**: Retrieval is based on keys, not order, making it efficient (**O(1)** on average) but unordered.\n",
        "- **Unpredictable Iteration**: Iterating over a dictionary (e.g., with a `for` loop) may yield keys in an unpredictable order (pre-Python 3.7).\n",
        "\n",
        "In Python 3.7+, dictionaries maintain **insertion order** as an implementation detail, but this behavior was officially guaranteed in Python 3.8+. However, they are still primarily designed for key-based access, not ordered operations."
      ],
      "metadata": {
        "id": "DRmBoItLUzjX"
      }
    },
    {
      "cell_type": "markdown",
      "source": [
        "**20.   Explain the difference between a list and a dictionary in terms of data retrieval.**\n",
        "\n",
        "    -### **List**:\n",
        "- **Data Retrieval**: Accessed by **index** (e.g., `list[0]`).\n",
        "- **Time Complexity**: **O(1)** for accessing elements by index.\n",
        "- **Use Case**: Ideal for ordered, sequential data where position matters.\n",
        "\n",
        "### **Dictionary**:\n",
        "- **Data Retrieval**: Accessed by **key** (e.g., `dict[\"key\"]`).\n",
        "- **Time Complexity**: **O(1)** on average for key-based access.\n",
        "- **Use Case**: Ideal for unordered data with unique keys, optimized for fast lookups.\n",
        "\n",
        "### Key Difference:\n",
        "- Lists are **index-based** and ordered, while dictionaries are **key-based** and optimized for fast, unordered lookups."
      ],
      "metadata": {
        "id": "aOpkjdLIVSWO"
      }
    },
    {
      "cell_type": "markdown",
      "source": [
        "\n",
        "\n",
        "\n",
        "# **PRACTICAL QUESTIONS**"
      ],
      "metadata": {
        "id": "O1qr3NWtoQG4"
      }
    },
    {
      "cell_type": "markdown",
      "source": [
        "1. Write a code to create a string with your name and print it."
      ],
      "metadata": {
        "id": "sj_W9ddmojs0"
      }
    },
    {
      "cell_type": "code",
      "source": [
        "name = \"Debanjana Dhar\"\n",
        "print(name)"
      ],
      "metadata": {
        "colab": {
          "base_uri": "https://localhost:8080/"
        },
        "id": "bsByUlWao_s6",
        "outputId": "75d33fc6-4f6c-49f5-f089-c1f13cb2316b"
      },
      "execution_count": 1,
      "outputs": [
        {
          "output_type": "stream",
          "name": "stdout",
          "text": [
            "Debanjana Dhar\n"
          ]
        }
      ]
    },
    {
      "cell_type": "markdown",
      "source": [
        "2.Write a code to find the length of the string \"Hello World\"."
      ],
      "metadata": {
        "id": "zH4WSXS6pc1-"
      }
    },
    {
      "cell_type": "code",
      "source": [
        "text = \"Hello World\"\n",
        "length = len(text)\n",
        "print(length)"
      ],
      "metadata": {
        "colab": {
          "base_uri": "https://localhost:8080/"
        },
        "id": "p94-31HwprvC",
        "outputId": "76e39b54-388c-4e3a-8922-982c15b12a2b"
      },
      "execution_count": 2,
      "outputs": [
        {
          "output_type": "stream",
          "name": "stdout",
          "text": [
            "11\n"
          ]
        }
      ]
    },
    {
      "cell_type": "markdown",
      "source": [
        "3. Write a code to slice the first 3 characters from the string \"Python Programming\"."
      ],
      "metadata": {
        "id": "uzhRsf9xqXzg"
      }
    },
    {
      "cell_type": "code",
      "source": [
        "text = \"Python Programming\"\n",
        "first_three_chars = text[:3]\n",
        "print(first_three_chars)"
      ],
      "metadata": {
        "colab": {
          "base_uri": "https://localhost:8080/"
        },
        "id": "ak67emfEqjIq",
        "outputId": "e0f8be35-0251-45e7-dfed-5b962451d376"
      },
      "execution_count": 3,
      "outputs": [
        {
          "output_type": "stream",
          "name": "stdout",
          "text": [
            "Pyt\n"
          ]
        }
      ]
    },
    {
      "cell_type": "markdown",
      "source": [
        "4. Write a code to convert the string \"hello\" to uppercase."
      ],
      "metadata": {
        "id": "xprUbTPtrcV6"
      }
    },
    {
      "cell_type": "code",
      "source": [
        "text = \"hello\"\n",
        "uppercase_text = text.upper()\n",
        "print(uppercase_text)"
      ],
      "metadata": {
        "colab": {
          "base_uri": "https://localhost:8080/"
        },
        "id": "dJ3JTGvlrk-Y",
        "outputId": "2a248945-9d10-47c0-d5da-666004784fae"
      },
      "execution_count": 4,
      "outputs": [
        {
          "output_type": "stream",
          "name": "stdout",
          "text": [
            "HELLO\n"
          ]
        }
      ]
    },
    {
      "cell_type": "markdown",
      "source": [
        "5.  Write a code to replace the word \"apple\" with \"orange\" in the string \"I like apple\"."
      ],
      "metadata": {
        "id": "Wmn6e0lbsYmY"
      }
    },
    {
      "cell_type": "code",
      "source": [
        "text = \"I like apple\"\n",
        "new_text = text.replace(\"apple\",\"orange\")\n",
        "print(new_text)"
      ],
      "metadata": {
        "colab": {
          "base_uri": "https://localhost:8080/"
        },
        "id": "x9jww2h0snD0",
        "outputId": "74c7a8c6-ee5a-4a25-e74a-d49c4d44a3ac"
      },
      "execution_count": 6,
      "outputs": [
        {
          "output_type": "stream",
          "name": "stdout",
          "text": [
            "I like orange\n"
          ]
        }
      ]
    },
    {
      "cell_type": "markdown",
      "source": [
        "6. Write a code to create a list with numbers 1 to 5 and print it."
      ],
      "metadata": {
        "id": "O27ybq4Eu7hN"
      }
    },
    {
      "cell_type": "code",
      "source": [
        "numbers = [1, 2, 3, 4, 5]\n",
        "print(numbers)"
      ],
      "metadata": {
        "colab": {
          "base_uri": "https://localhost:8080/"
        },
        "id": "ZT1wsQf1vIyn",
        "outputId": "b841e20b-e4ef-46a9-b4c0-61acfdae7c86"
      },
      "execution_count": 12,
      "outputs": [
        {
          "output_type": "stream",
          "name": "stdout",
          "text": [
            "[1, 2, 3, 4, 5]\n"
          ]
        }
      ]
    },
    {
      "cell_type": "markdown",
      "source": [
        "7. Write a code to append the number 10 to the list [1, 2, 3, 4]"
      ],
      "metadata": {
        "id": "U9V9260rvkYt"
      }
    },
    {
      "cell_type": "code",
      "source": [
        "my_list = [1, 2, 3, 4]\n",
        "my_list.append(10)\n",
        "print(my_list)"
      ],
      "metadata": {
        "colab": {
          "base_uri": "https://localhost:8080/"
        },
        "id": "SOU8JvYpwJdq",
        "outputId": "c4822b04-9222-435d-c78c-54bca5987668"
      },
      "execution_count": 13,
      "outputs": [
        {
          "output_type": "stream",
          "name": "stdout",
          "text": [
            "[1, 2, 3, 4, 10]\n"
          ]
        }
      ]
    },
    {
      "cell_type": "markdown",
      "source": [
        "8. Write a code to remove the number 3 from the list [1, 2, 3, 4, 5]"
      ],
      "metadata": {
        "id": "sZCPzIJ5wqUb"
      }
    },
    {
      "cell_type": "code",
      "source": [
        "my_list = [1,2,3,4,5]\n",
        "my_list.remove(3)\n",
        "print(my_list)"
      ],
      "metadata": {
        "colab": {
          "base_uri": "https://localhost:8080/"
        },
        "id": "O5QQ0jZ6w2Ob",
        "outputId": "2d55ba91-3890-46d5-c6ca-e1989d33c729"
      },
      "execution_count": 14,
      "outputs": [
        {
          "output_type": "stream",
          "name": "stdout",
          "text": [
            "[1, 2, 4, 5]\n"
          ]
        }
      ]
    },
    {
      "cell_type": "markdown",
      "source": [
        "9.  Write a code to access the second element in the list ['a', 'b', 'c', 'd']"
      ],
      "metadata": {
        "id": "zGb6cmM8xWId"
      }
    },
    {
      "cell_type": "code",
      "source": [
        "my_list = ['a','b','c','d']\n",
        "second_element = my_list[1]\n",
        "print(second_element)"
      ],
      "metadata": {
        "colab": {
          "base_uri": "https://localhost:8080/"
        },
        "id": "-E8185HCxpAz",
        "outputId": "7dad41e5-bba2-47c4-f4cd-50e14b951738"
      },
      "execution_count": 15,
      "outputs": [
        {
          "output_type": "stream",
          "name": "stdout",
          "text": [
            "b\n"
          ]
        }
      ]
    },
    {
      "cell_type": "markdown",
      "source": [
        "10. Write a code to reverse the list [10, 20, 30, 40, 50]."
      ],
      "metadata": {
        "id": "jJBSINBQyiAP"
      }
    },
    {
      "cell_type": "code",
      "source": [
        "my_list = [10,20,30,40,50]\n",
        "my_list.reverse()\n",
        "print(my_list)"
      ],
      "metadata": {
        "colab": {
          "base_uri": "https://localhost:8080/"
        },
        "id": "MGO4RBK-yrMi",
        "outputId": "d0a0c5bf-c980-4f87-8f4e-a46e19e1da1e"
      },
      "execution_count": 16,
      "outputs": [
        {
          "output_type": "stream",
          "name": "stdout",
          "text": [
            "[50, 40, 30, 20, 10]\n"
          ]
        }
      ]
    },
    {
      "cell_type": "markdown",
      "source": [
        "11. Write a code to create a tuple with the elements 100, 200, 300 and print it."
      ],
      "metadata": {
        "id": "xMY9DSwVzdUV"
      }
    },
    {
      "cell_type": "code",
      "source": [
        "my_tuple = (100, 200, 300)\n",
        "print(my_tuple)"
      ],
      "metadata": {
        "colab": {
          "base_uri": "https://localhost:8080/"
        },
        "id": "35oIy3RYzjzZ",
        "outputId": "e002b8a8-bf14-4834-eea6-de6c6d918000"
      },
      "execution_count": 17,
      "outputs": [
        {
          "output_type": "stream",
          "name": "stdout",
          "text": [
            "(100, 200, 300)\n"
          ]
        }
      ]
    },
    {
      "cell_type": "markdown",
      "source": [
        "12. Write a code to access the second-to-last element of the tuple ('red', 'green', 'blue', 'yellow')"
      ],
      "metadata": {
        "id": "CDJqJ7gb0EQZ"
      }
    },
    {
      "cell_type": "code",
      "source": [
        "my_tuple = ('red', 'green', 'blue', 'yellow')\n",
        "second_to_last = my_tuple[-2]\n",
        "print(second_to_last)"
      ],
      "metadata": {
        "colab": {
          "base_uri": "https://localhost:8080/"
        },
        "id": "0ZYXkLMn0Mow",
        "outputId": "bc7c9c2a-81ac-4f56-ae5a-b47f0ef787ba"
      },
      "execution_count": 18,
      "outputs": [
        {
          "output_type": "stream",
          "name": "stdout",
          "text": [
            "blue\n"
          ]
        }
      ]
    },
    {
      "cell_type": "markdown",
      "source": [
        "13. Write a code to find the minimum number in the tuple (10, 20, 5, 15)"
      ],
      "metadata": {
        "id": "vo6CR2dt08au"
      }
    },
    {
      "cell_type": "code",
      "source": [
        "my_tuple = (10, 20, 5, 15)\n",
        "minimum_number = min(my_tuple)\n",
        "print(minimum_number)"
      ],
      "metadata": {
        "colab": {
          "base_uri": "https://localhost:8080/"
        },
        "id": "pHFwAFuV1EZa",
        "outputId": "3288b4b3-a551-4ffc-b9d2-4e0ae944cf4d"
      },
      "execution_count": 19,
      "outputs": [
        {
          "output_type": "stream",
          "name": "stdout",
          "text": [
            "5\n"
          ]
        }
      ]
    },
    {
      "cell_type": "markdown",
      "source": [
        "14. Write a code to find the index of the element \"cat\" in the tuple ('dog', 'cat', 'rabbit')"
      ],
      "metadata": {
        "id": "qAGJks2n2hz_"
      }
    },
    {
      "cell_type": "code",
      "source": [
        "animals = ('dog', 'cat', 'rabbit')\n",
        "index = animals.index('cat')\n",
        "print(index)"
      ],
      "metadata": {
        "colab": {
          "base_uri": "https://localhost:8080/"
        },
        "id": "m5TpKh8_2rer",
        "outputId": "8c25161a-b77c-4f62-d959-d0194ac1a6db"
      },
      "execution_count": 21,
      "outputs": [
        {
          "output_type": "stream",
          "name": "stdout",
          "text": [
            "1\n"
          ]
        }
      ]
    },
    {
      "cell_type": "markdown",
      "source": [
        "15. Write a code to create a tuple containing three different fruits and check if \"kiwi\" is in it"
      ],
      "metadata": {
        "id": "ABQQSutz4IDy"
      }
    },
    {
      "cell_type": "code",
      "source": [
        "\n",
        "fruits = (\"apple\", \"banana\", \"cherry\")\n",
        "if \"kiwi\" in fruits:\n",
        "    print(\"Kiwi is in the tuple.\")\n",
        "else:\n",
        "    print(\"Kiwi is not in the tuple.\")\n"
      ],
      "metadata": {
        "colab": {
          "base_uri": "https://localhost:8080/"
        },
        "id": "lpNENBLP44vD",
        "outputId": "4878ebac-19a6-432f-9b6d-41063fb78dee"
      },
      "execution_count": 22,
      "outputs": [
        {
          "output_type": "stream",
          "name": "stdout",
          "text": [
            "Kiwi is not in the tuple.\n"
          ]
        }
      ]
    },
    {
      "cell_type": "markdown",
      "source": [
        "16. Write a code to create a set with the elements 'a', 'b', 'c' and print it."
      ],
      "metadata": {
        "id": "AofUdc2Y5RHq"
      }
    },
    {
      "cell_type": "code",
      "source": [
        "my_set = {'a', 'b', 'c'}\n",
        "\n",
        "print(my_set)\n"
      ],
      "metadata": {
        "colab": {
          "base_uri": "https://localhost:8080/"
        },
        "id": "dMsM-Rrz5TvZ",
        "outputId": "07e31283-a8cf-46cb-e60e-ba87077d79ef"
      },
      "execution_count": 23,
      "outputs": [
        {
          "output_type": "stream",
          "name": "stdout",
          "text": [
            "{'c', 'a', 'b'}\n"
          ]
        }
      ]
    },
    {
      "cell_type": "markdown",
      "source": [
        "17. Write a code to clear all elements from the set {1, 2, 3, 4, 5}."
      ],
      "metadata": {
        "id": "YoZ7A9gB51cV"
      }
    },
    {
      "cell_type": "code",
      "source": [
        "\n",
        "my_set = {1, 2, 3, 4, 5}\n",
        "my_set.clear()\n",
        "\n",
        "print(my_set)\n"
      ],
      "metadata": {
        "colab": {
          "base_uri": "https://localhost:8080/"
        },
        "id": "uqu3lGxW54GG",
        "outputId": "4c23d05d-4af4-4c80-cf43-09f819f452dd"
      },
      "execution_count": 25,
      "outputs": [
        {
          "output_type": "stream",
          "name": "stdout",
          "text": [
            "set()\n"
          ]
        }
      ]
    },
    {
      "cell_type": "markdown",
      "source": [
        "18. Write a code to remove the element 4 from the set {1, 2, 3, 4}."
      ],
      "metadata": {
        "id": "aPCu4tNS6VTj"
      }
    },
    {
      "cell_type": "code",
      "source": [
        "\n",
        "my_set = {1, 2, 3, 4}\n",
        "\n",
        "my_set.discard(4)\n",
        "\n",
        "print(my_set)\n"
      ],
      "metadata": {
        "colab": {
          "base_uri": "https://localhost:8080/"
        },
        "id": "rbDw0_KF6WnG",
        "outputId": "bbc0fab0-a679-4861-9977-7c7f09e4fa21"
      },
      "execution_count": 26,
      "outputs": [
        {
          "output_type": "stream",
          "name": "stdout",
          "text": [
            "{1, 2, 3}\n"
          ]
        }
      ]
    },
    {
      "cell_type": "markdown",
      "source": [
        "19. Write a code to find the union of two sets {1, 2, 3} and {3, 4, 5}."
      ],
      "metadata": {
        "id": "Pp34kEFF6rnF"
      }
    },
    {
      "cell_type": "code",
      "source": [
        "\n",
        "set1 = {1, 2, 3}\n",
        "set2 = {3, 4, 5}\n",
        "\n",
        "union_set = set1.union(set2)\n",
        "\n",
        "print(union_set)\n"
      ],
      "metadata": {
        "colab": {
          "base_uri": "https://localhost:8080/"
        },
        "id": "vdVdCHlX60cI",
        "outputId": "8aff4d77-f8a8-4c36-dc3e-3ba87cf3aaf1"
      },
      "execution_count": 27,
      "outputs": [
        {
          "output_type": "stream",
          "name": "stdout",
          "text": [
            "{1, 2, 3, 4, 5}\n"
          ]
        }
      ]
    },
    {
      "cell_type": "markdown",
      "source": [
        "20. Write a code to find the intersection of two sets {1, 2, 3} and {2, 3, 4}."
      ],
      "metadata": {
        "id": "vch5noUd7Axs"
      }
    },
    {
      "cell_type": "code",
      "source": [
        "\n",
        "set1 = {1, 2, 3}\n",
        "set2 = {2, 3, 4}\n",
        "\n",
        "intersection_set = set1.intersection(set2)\n",
        "\n",
        "print(intersection_set)\n"
      ],
      "metadata": {
        "colab": {
          "base_uri": "https://localhost:8080/"
        },
        "id": "eqHKlCnQ7IGG",
        "outputId": "165329c4-003c-4d3d-c4ab-70a9aae53492"
      },
      "execution_count": 28,
      "outputs": [
        {
          "output_type": "stream",
          "name": "stdout",
          "text": [
            "{2, 3}\n"
          ]
        }
      ]
    },
    {
      "cell_type": "markdown",
      "source": [
        "21. Write a code to create a dictionary with the keys \"name\", \"age\", and \"city\", and print it."
      ],
      "metadata": {
        "id": "0pPtpPGV7UnS"
      }
    },
    {
      "cell_type": "code",
      "source": [
        "\n",
        "person = { \"name\": \"Debanjana\",\"age\": 27, \"city\": \"Kolkata\"}\n",
        "\n",
        "print(person)\n"
      ],
      "metadata": {
        "colab": {
          "base_uri": "https://localhost:8080/"
        },
        "id": "nyrkVWfH7vq6",
        "outputId": "75f079b1-aaa9-45bd-dee9-2427c9181a66"
      },
      "execution_count": 29,
      "outputs": [
        {
          "output_type": "stream",
          "name": "stdout",
          "text": [
            "{'name': 'Debanjana', 'age': 27, 'city': 'Kolkata'}\n"
          ]
        }
      ]
    },
    {
      "cell_type": "markdown",
      "source": [
        "22. Write a code to add a new key-value pair \"country\": \"USA\" to the dictionary {'name': 'John', 'age': 25}."
      ],
      "metadata": {
        "id": "obpRWLgz8T5v"
      }
    },
    {
      "cell_type": "code",
      "source": [
        "\n",
        "person = {'name': 'John', 'age': 25}\n",
        "\n",
        "person['country'] = 'USA'\n",
        "\n",
        "print(person)\n"
      ],
      "metadata": {
        "colab": {
          "base_uri": "https://localhost:8080/"
        },
        "id": "WJz27Kjt8fCS",
        "outputId": "65dfb721-8a85-4153-b11e-76ce3691508c"
      },
      "execution_count": 30,
      "outputs": [
        {
          "output_type": "stream",
          "name": "stdout",
          "text": [
            "{'name': 'John', 'age': 25, 'country': 'USA'}\n"
          ]
        }
      ]
    },
    {
      "cell_type": "markdown",
      "source": [
        "23. Write a code to access the value associated with the key \"name\" in the dictionary {'name': 'Alice', 'age': 30}."
      ],
      "metadata": {
        "id": "1Jz5NTD79aT-"
      }
    },
    {
      "cell_type": "code",
      "source": [
        "\n",
        "my_dict = {'name': 'Alice', 'age': 30}\n",
        "\n",
        "name_value = my_dict['name']\n",
        "\n",
        "print(name_value)"
      ],
      "metadata": {
        "colab": {
          "base_uri": "https://localhost:8080/"
        },
        "id": "pq6cM5to9bx0",
        "outputId": "bcf1c3ae-a671-405b-ed11-02c14d381734"
      },
      "execution_count": 31,
      "outputs": [
        {
          "output_type": "stream",
          "name": "stdout",
          "text": [
            "Alice\n"
          ]
        }
      ]
    },
    {
      "cell_type": "markdown",
      "source": [
        "24. Write a code to remove the key \"age\" from the dictionary {'name': 'Bob', 'age': 22, 'city': 'New York'}."
      ],
      "metadata": {
        "id": "LAlWlaiv97CX"
      }
    },
    {
      "cell_type": "code",
      "source": [
        "\n",
        "my_dict = {'name': 'Bob', 'age': 22, 'city': 'New York'}\n",
        "\n",
        "del my_dict['age']\n",
        "\n",
        "print(my_dict)"
      ],
      "metadata": {
        "colab": {
          "base_uri": "https://localhost:8080/"
        },
        "id": "_hZcXuQe99Vy",
        "outputId": "52cb2100-2c3f-4a41-bc75-f9af03412815"
      },
      "execution_count": 32,
      "outputs": [
        {
          "output_type": "stream",
          "name": "stdout",
          "text": [
            "{'name': 'Bob', 'city': 'New York'}\n"
          ]
        }
      ]
    },
    {
      "cell_type": "markdown",
      "source": [
        "25. Write a code to check if the key \"city\" exists in the dictionary {'name': 'Alice', 'city': 'Paris'}."
      ],
      "metadata": {
        "id": "NNLo1hZR-Xo9"
      }
    },
    {
      "cell_type": "code",
      "source": [
        "\n",
        "my_dict = {'name': 'Alice', 'city': 'Paris'}\n",
        "\n",
        "if 'city' in my_dict:\n",
        "    print(\"The key 'city' exists in the dictionary.\")\n",
        "else:\n",
        "    print(\"The key 'city' does not exist in the dictionary.\")"
      ],
      "metadata": {
        "colab": {
          "base_uri": "https://localhost:8080/"
        },
        "id": "tc4f0geu-ZhO",
        "outputId": "fafeef51-8f15-4b54-c60a-8c08b9e5e93d"
      },
      "execution_count": 33,
      "outputs": [
        {
          "output_type": "stream",
          "name": "stdout",
          "text": [
            "The key 'city' exists in the dictionary.\n"
          ]
        }
      ]
    },
    {
      "cell_type": "markdown",
      "source": [
        "26. Write a code to create a list, a tuple, and a dictionary, and print them all.\n",
        "\n"
      ],
      "metadata": {
        "id": "P6FGvDgQ-uA9"
      }
    },
    {
      "cell_type": "code",
      "source": [
        "\n",
        "my_list = [1, 2, 3, 4, 5]\n",
        "\n",
        "my_tuple = (10, 20, 30, 40, 50)\n",
        "\n",
        "\n",
        "my_dict = { \"name\": \"Alice\",\"age\": 25,  \"city\": \"New York\"}\n",
        "\n",
        "\n",
        "print(\"List:\", my_list)\n",
        "print(\"Tuple:\", my_tuple)\n",
        "print(\"Dictionary:\", my_dict)\n",
        "\n",
        "\n"
      ],
      "metadata": {
        "colab": {
          "base_uri": "https://localhost:8080/"
        },
        "id": "_rx1HRgw-0dD",
        "outputId": "86c1aef4-9a78-440a-e508-8498425fe781"
      },
      "execution_count": 34,
      "outputs": [
        {
          "output_type": "stream",
          "name": "stdout",
          "text": [
            "List: [1, 2, 3, 4, 5]\n",
            "Tuple: (10, 20, 30, 40, 50)\n",
            "Dictionary: {'name': 'Alice', 'age': 25, 'city': 'New York'}\n"
          ]
        }
      ]
    },
    {
      "cell_type": "markdown",
      "source": [
        "27. Write a code to create a list of 5 random numbers between 1 and 100, sort it in ascending order, and print the\n",
        "result.(replaced)"
      ],
      "metadata": {
        "id": "8vUbPeZ1_wd3"
      }
    },
    {
      "cell_type": "code",
      "source": [
        "import random\n",
        "\n",
        "\n",
        "random_numbers = random.sample(range(1, 101), 5)\n",
        "\n",
        "\n",
        "random_numbers.sort()\n",
        "\n",
        "print(\"Sorted Random Numbers:\", random_numbers)\n"
      ],
      "metadata": {
        "colab": {
          "base_uri": "https://localhost:8080/"
        },
        "id": "zp-5fVEb_9lB",
        "outputId": "73b3b416-74cc-4763-b47b-1a72055c5599"
      },
      "execution_count": 36,
      "outputs": [
        {
          "output_type": "stream",
          "name": "stdout",
          "text": [
            "Sorted Random Numbers: [33, 39, 46, 78, 96]\n"
          ]
        }
      ]
    },
    {
      "cell_type": "markdown",
      "source": [
        "28. Write a code to create a list with strings and print the element at the third index."
      ],
      "metadata": {
        "id": "D9waslGgAkQU"
      }
    },
    {
      "cell_type": "code",
      "source": [
        "\n",
        "my_list = [\"apple\", \"banana\", \"cherry\", \"date\", \"elderberry\"]\n",
        "\n",
        "print(my_list[3])\n"
      ],
      "metadata": {
        "colab": {
          "base_uri": "https://localhost:8080/"
        },
        "id": "Zu9csv5zAuUg",
        "outputId": "19c1739b-5844-4c89-cc3f-1ec9e3ad7767"
      },
      "execution_count": 37,
      "outputs": [
        {
          "output_type": "stream",
          "name": "stdout",
          "text": [
            "date\n"
          ]
        }
      ]
    },
    {
      "cell_type": "markdown",
      "source": [
        "29. Write a code to combine two dictionaries into one and print the result.\n",
        "\n"
      ],
      "metadata": {
        "id": "wL4GLAPXA7Tp"
      }
    },
    {
      "cell_type": "code",
      "source": [
        "dict1 = {'a': 1, 'b': 2}\n",
        "dict2 = {'b': 3, 'c': 4}\n",
        "\n",
        "dict1.update(dict2)\n",
        "print(dict1)\n"
      ],
      "metadata": {
        "colab": {
          "base_uri": "https://localhost:8080/"
        },
        "id": "wVFOQgrsBUoj",
        "outputId": "887a2edd-c433-43ee-da6f-0ea1a1089cc9"
      },
      "execution_count": 38,
      "outputs": [
        {
          "output_type": "stream",
          "name": "stdout",
          "text": [
            "{'a': 1, 'b': 3, 'c': 4}\n"
          ]
        }
      ]
    },
    {
      "cell_type": "markdown",
      "source": [
        "30. Write a code to convert a list of strings into a set."
      ],
      "metadata": {
        "id": "nFapJe5bBuFd"
      }
    },
    {
      "cell_type": "code",
      "source": [
        "\n",
        "list_of_strings = ['apple', 'banana', 'cherry', 'apple', 'banana']\n",
        "\n",
        "set_of_strings = set(list_of_strings)\n",
        "\n",
        "print(set_of_strings)\n"
      ],
      "metadata": {
        "colab": {
          "base_uri": "https://localhost:8080/"
        },
        "id": "ZvR_IkK5B0JJ",
        "outputId": "073d68b2-5e9d-45e8-e74c-b20674d52178"
      },
      "execution_count": 39,
      "outputs": [
        {
          "output_type": "stream",
          "name": "stdout",
          "text": [
            "{'banana', 'cherry', 'apple'}\n"
          ]
        }
      ]
    }
  ]
}